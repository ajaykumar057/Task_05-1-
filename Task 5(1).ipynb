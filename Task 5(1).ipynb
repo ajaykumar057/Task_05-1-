{
 "cells": [
  {
   "cell_type": "markdown",
   "id": "4170ca4f",
   "metadata": {},
   "source": [
    "## Load and Inspect the Dataset ##"
   ]
  },
  {
   "cell_type": "code",
   "execution_count": null,
   "id": "9f815970",
   "metadata": {},
   "outputs": [],
   "source": [
    "!pip install opendatasets\n",
    "!pip install folium\n"
   ]
  },
  {
   "cell_type": "code",
   "execution_count": null,
   "id": "397dc81d",
   "metadata": {},
   "outputs": [],
   "source": [
    "import pandas as pd\n",
    "\n",
    "# Load first 100,000 rows to save memory\n",
    "df = pd.read_csv(\"US_Accidents_March23.csv\", nrows=100000)\n",
    "\n",
    "# Preview data\n",
    "df.shape, df.columns.tolist(), df.head()\n"
   ]
  },
  {
   "cell_type": "markdown",
   "id": "af804d5f",
   "metadata": {},
   "source": [
    "## Basic Cleaning + Column Selection ##"
   ]
  },
  {
   "cell_type": "code",
   "execution_count": null,
   "id": "b3eec2cc",
   "metadata": {},
   "outputs": [],
   "source": [
    "# Drop rows with missing key info\n",
    "df = df[['Severity', 'Start_Time', 'Weather_Condition', 'State', 'Start_Lat', 'Start_Lng']].dropna()\n",
    "\n",
    "# Convert Start_Time to datetime\n",
    "df['Start_Time'] = pd.to_datetime(df['Start_Time'])\n",
    "\n",
    "# Extract hour\n",
    "df['Hour'] = df['Start_Time'].dt.hour\n",
    "df.head()\n"
   ]
  },
  {
   "cell_type": "markdown",
   "id": "a57be873",
   "metadata": {},
   "source": [
    "## Visualize Severity Distribution ##"
   ]
  },
  {
   "cell_type": "code",
   "execution_count": null,
   "id": "4c330389",
   "metadata": {},
   "outputs": [],
   "source": [
    "import seaborn as sns\n",
    "import matplotlib.pyplot as plt\n",
    "\n",
    "sns.countplot(x='Severity', data=df, palette='viridis')\n",
    "plt.title(\"Accident Severity Distribution\")\n",
    "plt.xlabel(\"Severity (1 = Least, 4 = Most)\")\n",
    "plt.ylabel(\"Number of Accidents\")\n",
    "plt.show()\n"
   ]
  },
  {
   "cell_type": "markdown",
   "id": "8a8e11e0",
   "metadata": {},
   "source": [
    "## Top Weather Conditions ##"
   ]
  },
  {
   "cell_type": "code",
   "execution_count": null,
   "id": "2baa5451",
   "metadata": {},
   "outputs": [],
   "source": [
    "df['Weather_Condition'].value_counts().head(10).plot(kind='barh', color='skyblue')\n",
    "plt.title(\"Top 10 Weather Conditions during Accidents\")\n",
    "plt.xlabel(\"Number of Accidents\")\n",
    "plt.ylabel(\"Weather Condition\")\n",
    "plt.show()\n"
   ]
  },
  {
   "cell_type": "markdown",
   "id": "c875aec3",
   "metadata": {},
   "source": [
    "## Accidents by Hour of Day ##"
   ]
  },
  {
   "cell_type": "code",
   "execution_count": null,
   "id": "5f209caa",
   "metadata": {},
   "outputs": [],
   "source": [
    "sns.histplot(df['Hour'], bins=24, kde=False, color='orange')\n",
    "plt.title(\"Accidents by Hour of Day\")\n",
    "plt.xlabel(\"Hour\")\n",
    "plt.ylabel(\"Number of Accidents\")\n",
    "plt.xticks(range(0, 24))\n",
    "plt.grid(True)\n",
    "plt.show()\n"
   ]
  },
  {
   "cell_type": "markdown",
   "id": "e9fbdc19",
   "metadata": {},
   "source": [
    "# Heatmap #"
   ]
  },
  {
   "cell_type": "code",
   "execution_count": null,
   "id": "7a347368",
   "metadata": {},
   "outputs": [],
   "source": [
    "import folium\n",
    "from folium.plugins import HeatMap\n",
    "\n",
    "# Sample for performance\n",
    "sample_df = df.sample(5000)\n",
    "\n",
    "# Create base map\n",
    "map_ = folium.Map(location=[39.5, -98.35], zoom_start=4)\n",
    "\n",
    "# Add heatmap\n",
    "heat_data = [[row['Start_Lat'], row['Start_Lng']] for index, row in sample_df.iterrows()]\n",
    "HeatMap(heat_data).add_to(map_)\n",
    "\n",
    "map_\n"
   ]
  }
 ],
 "metadata": {
  "kernelspec": {
   "display_name": "Python 3",
   "language": "python",
   "name": "python3"
  },
  "language_info": {
   "codemirror_mode": {
    "name": "ipython",
    "version": 3
   },
   "file_extension": ".py",
   "mimetype": "text/x-python",
   "name": "python",
   "nbconvert_exporter": "python",
   "pygments_lexer": "ipython3",
   "version": "3.12.10"
  }
 },
 "nbformat": 4,
 "nbformat_minor": 5
}
